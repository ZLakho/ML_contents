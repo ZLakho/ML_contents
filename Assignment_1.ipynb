{
  "cells": [
    {
      "cell_type": "raw",
      "metadata": {
        "id": "R13jz5ImBLl3"
      },
      "source": [
        "Question # 1\n",
        "Do the following:\n",
        "1. Make an array 'A' of 50 numbers (0 to 49)\n",
        "2. Reshape 'A' into (10,5)\n",
        "3. Move 2nd, 4th, 6th, and 8th rows from their current position to the end of array. [Hint: This would require more than 1 line of code. Also np.vstack() may become handy]."
      ]
    },
    {
      "cell_type": "code",
      "execution_count": 1,
      "metadata": {
        "colab": {
          "base_uri": "https://localhost:8080/"
        },
        "id": "qsrVicvqBLl_",
        "outputId": "561b3196-5d8e-4c43-b51a-645dfcbf0a5a"
      },
      "outputs": [
        {
          "name": "stdout",
          "output_type": "stream",
          "text": [
            "[[ 0  1  2  3  4]\n",
            " [ 5  6  7  8  9]\n",
            " [15 16 17 18 19]\n",
            " [25 26 27 28 29]\n",
            " [35 36 37 38 39]\n",
            " [45 46 47 48 49]\n",
            " [10 11 12 13 14]\n",
            " [20 21 22 23 24]\n",
            " [30 31 32 33 34]\n",
            " [40 41 42 43 44]]\n"
          ]
        }
      ],
      "source": [
        "#Write your code here\n",
        "import numpy as np\n",
        "A=np.array(np.arange(50))\n",
        "A=A.reshape(10,5)\n",
        "a=np.array([A[2],A[4],A[6],A[8]])\n",
        "Rdel = [2, 4, 6, 8]\n",
        "A = np.delete(A, Rdel, axis=0)\n",
        "A=np.vstack([A,a])\n",
        "print(A)\n",
        "\n",
        "\n",
        "\n",
        "\n",
        "\n"
      ]
    },
    {
      "cell_type": "raw",
      "metadata": {
        "id": "a0j0HGgLBLmD"
      },
      "source": [
        "Question # 2\n",
        "Do the following:\n",
        "1. Make a list 'B'of 10 random numbers in the range of (2,25). [Hint: Use \"random.sample\" from \"Random\" Module]\n",
        "2. Convert 'B' to a 1D array.\n",
        "3. Insert 'B' into the final array of Ques 1. [Hint: np.hstack()]."
      ]
    },
    {
      "cell_type": "code",
      "execution_count": 2,
      "metadata": {
        "colab": {
          "base_uri": "https://localhost:8080/"
        },
        "id": "ELzV32bZBLmE",
        "outputId": "e1f45044-6b8e-4987-e186-2a269fafb817"
      },
      "outputs": [
        {
          "name": "stdout",
          "output_type": "stream",
          "text": [
            "[[ 0.  1.  2.  3.  4.]\n",
            " [ 5.  6.  7.  8.  9.]\n",
            " [15. 16. 17. 18. 19.]\n",
            " [25. 26. 27. 28. 29.]\n",
            " [35. 36. 37. 38. 39.]\n",
            " [45. 46. 47. 48. 49.]\n",
            " [10. 11. 12. 13. 14.]\n",
            " [20. 21. 22. 23. 24.]\n",
            " [30. 31. 32. 33. 34.]\n",
            " [40. 41. 42. 43. 44.]\n",
            " [ 5. 13. 21.  5. 12.]\n",
            " [21. 10.  9.  7.  6.]]\n"
          ]
        }
      ],
      "source": [
        "#Write your code here\n",
        "import random\n",
        "import numpy as np\n",
        "# Code of question 1\n",
        "A = np.array(np.arange(50))\n",
        "A = A.reshape(10, 5)\n",
        "a = np.array([A[2], A[4], A[6], A[8]])\n",
        "Rdel = [2, 4, 6, 8]\n",
        "A = np.delete(A, Rdel, axis=0)\n",
        "A = np.vstack([A, a])\n",
        "#Code of question 2\n",
        "B = []\n",
        "for i in range(10):\n",
        "    C = [random.randrange(2, 25)]\n",
        "    B = np.append(B, C)\n",
        "B = np.array(B)\n",
        "B = B.reshape(2, 5)\n",
        "#Inserting values of B into A\n",
        "A = np.vstack([A,B])\n",
        "print(A)\n",
        "\n",
        "\n",
        "\n",
        "\n",
        "\n"
      ]
    },
    {
      "cell_type": "raw",
      "metadata": {
        "id": "ZqzgFpuVBLmF"
      },
      "source": [
        "Question # 3\n",
        "Do the following:\n",
        "1. Generate an array \"x\" of 10 numbers (0 to 9).\n",
        "2. Copy the 2nd column of the final matrix of Q2 and save it into a new matrix \"y\"\n",
        "3. Plot 10 data points from the combination of x and y. [Hint: plt.scatter]\n",
        "4. Connect data points with a line. [Hint: plt.plot]\n"
      ]
    },
    {
      "cell_type": "code",
      "execution_count": null,
      "metadata": {
        "colab": {
          "base_uri": "https://localhost:8080/",
          "height": 472
        },
        "id": "VKkZmaXYBLmG",
        "outputId": "3c797f3b-da38-46ae-8d34-7c7d710c8355"
      },
      "outputs": [
        {
          "data": {
            "image/png": "[encoded data removed]",
            "text/plain": [
              "<Figure size 640x480 with 1 Axes>"
            ]
          },
          "metadata": {},
          "output_type": "display_data"
        }
      ],
      "source": [
        "#Write your code here\n",
        "import random\n",
        "import numpy as np\n",
        "from matplotlib import pyplot as pl\n",
        "# Code of question 1\n",
        "A = np.array(np.arange(50))\n",
        "A = A.reshape(10, 5)\n",
        "a = np.array([A[2], A[4], A[6], A[8]])\n",
        "Rdel = [2, 4, 6, 8]\n",
        "A = np.delete(A, Rdel, axis=0)\n",
        "A = np.vstack([A, a])\n",
        "#Code of question 2\n",
        "B = []\n",
        "for i in range(10):\n",
        "    C = [random.randrange(2, 25)]\n",
        "    B = np.append(B, C)\n",
        "B = np.array(B)\n",
        "B = B.reshape(2, 5)\n",
        "#Inserting values of B into A\n",
        "A = np.vstack([A,B])\n",
        "# Code of question 3\n",
        "x = np.arange(0,10)\n",
        "y = A[:,1][:10]\n",
        "pl.title(\"Graph\")\n",
        "pl.xlabel(\"x axis\")\n",
        "pl.ylabel(\"y axis\")\n",
        "pl.scatter(x, y)\n",
        "pl.plot(x, y)\n",
        "pl.show()\n",
        "\n",
        "\n"
      ]
    }
  ],
  "metadata": {
    "colab": {
      "provenance": []
    },
    "kernelspec": {
      "display_name": "Python 3",
      "language": "python",
      "name": "python3"
    },
    "language_info": {
      "codemirror_mode": {
        "name": "ipython",
        "version": 3
      },
      "file_extension": ".py",
      "mimetype": "text/x-python",
      "name": "python",
      "nbconvert_exporter": "python",
      "pygments_lexer": "ipython3",
      "version": "3.11.5"
    }
  },
  "nbformat": 4,
  "nbformat_minor": 0
}
